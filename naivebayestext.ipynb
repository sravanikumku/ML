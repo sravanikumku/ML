{
  "cells": [
    {
      "cell_type": "markdown",
      "metadata": {
        "id": "view-in-github",
        "colab_type": "text"
      },
      "source": [
        "<a href=\"https://colab.research.google.com/github/sravanikumku/ML/blob/main/naivebayestext.ipynb\" target=\"_parent\"><img src=\"https://colab.research.google.com/assets/colab-badge.svg\" alt=\"Open In Colab\"/></a>"
      ]
    },
    {
      "cell_type": "code",
      "execution_count": null,
      "metadata": {
        "id": "UzAf5opROOLq"
      },
      "outputs": [],
      "source": [
        "import pandas as pd\n",
        "from sklearn.model_selection import train_test_split\n",
        "from sklearn.feature_extraction.text import CountVectorizer\n",
        "import numpy as np"
      ]
    },
    {
      "cell_type": "code",
      "execution_count": null,
      "metadata": {
        "colab": {
          "base_uri": "https://localhost:8080/",
          "height": 613
        },
        "id": "xPY9kUfsOTbB",
        "outputId": "5dc75e1c-571a-45b6-905e-fe012a757e2b"
      },
      "outputs": [
        {
          "output_type": "execute_result",
          "data": {
            "text/plain": [
              "                              Unnamed: 0 Unnamed: 1\n",
              "0                   I love this sandwich        pos\n",
              "1               this is an amazing place        pos\n",
              "2     I feel very good about these beers        pos\n",
              "3                   this is my best work        pos\n",
              "4                   what an awesome view        pos\n",
              "5          I do not like this restaurant        neg\n",
              "6               I am tired of this stuff        neg\n",
              "7                 I can't deal with this        neg\n",
              "8                   he is my sworn enemy        neg\n",
              "9                    my boss is horrible        neg\n",
              "10              this is an awesome place        pos\n",
              "11  I donot like the taste of this juice        neg\n",
              "12                       I love to dance        pos\n",
              "13     I am sick and tired of this place        neg\n",
              "14                  what a great holiday        pos\n",
              "15        that is a bad locality to stay        neg\n",
              "16        we will have good fun tomorrow        pos\n",
              "17      I went to my enemy's house today        neg"
            ],
            "text/html": [
              "\n",
              "  <div id=\"df-fd595d29-b167-4805-a6ee-aae32414189f\">\n",
              "    <div class=\"colab-df-container\">\n",
              "      <div>\n",
              "<style scoped>\n",
              "    .dataframe tbody tr th:only-of-type {\n",
              "        vertical-align: middle;\n",
              "    }\n",
              "\n",
              "    .dataframe tbody tr th {\n",
              "        vertical-align: top;\n",
              "    }\n",
              "\n",
              "    .dataframe thead th {\n",
              "        text-align: right;\n",
              "    }\n",
              "</style>\n",
              "<table border=\"1\" class=\"dataframe\">\n",
              "  <thead>\n",
              "    <tr style=\"text-align: right;\">\n",
              "      <th></th>\n",
              "      <th>Unnamed: 0</th>\n",
              "      <th>Unnamed: 1</th>\n",
              "    </tr>\n",
              "  </thead>\n",
              "  <tbody>\n",
              "    <tr>\n",
              "      <th>0</th>\n",
              "      <td>I love this sandwich</td>\n",
              "      <td>pos</td>\n",
              "    </tr>\n",
              "    <tr>\n",
              "      <th>1</th>\n",
              "      <td>this is an amazing place</td>\n",
              "      <td>pos</td>\n",
              "    </tr>\n",
              "    <tr>\n",
              "      <th>2</th>\n",
              "      <td>I feel very good about these beers</td>\n",
              "      <td>pos</td>\n",
              "    </tr>\n",
              "    <tr>\n",
              "      <th>3</th>\n",
              "      <td>this is my best work</td>\n",
              "      <td>pos</td>\n",
              "    </tr>\n",
              "    <tr>\n",
              "      <th>4</th>\n",
              "      <td>what an awesome view</td>\n",
              "      <td>pos</td>\n",
              "    </tr>\n",
              "    <tr>\n",
              "      <th>5</th>\n",
              "      <td>I do not like this restaurant</td>\n",
              "      <td>neg</td>\n",
              "    </tr>\n",
              "    <tr>\n",
              "      <th>6</th>\n",
              "      <td>I am tired of this stuff</td>\n",
              "      <td>neg</td>\n",
              "    </tr>\n",
              "    <tr>\n",
              "      <th>7</th>\n",
              "      <td>I can't deal with this</td>\n",
              "      <td>neg</td>\n",
              "    </tr>\n",
              "    <tr>\n",
              "      <th>8</th>\n",
              "      <td>he is my sworn enemy</td>\n",
              "      <td>neg</td>\n",
              "    </tr>\n",
              "    <tr>\n",
              "      <th>9</th>\n",
              "      <td>my boss is horrible</td>\n",
              "      <td>neg</td>\n",
              "    </tr>\n",
              "    <tr>\n",
              "      <th>10</th>\n",
              "      <td>this is an awesome place</td>\n",
              "      <td>pos</td>\n",
              "    </tr>\n",
              "    <tr>\n",
              "      <th>11</th>\n",
              "      <td>I donot like the taste of this juice</td>\n",
              "      <td>neg</td>\n",
              "    </tr>\n",
              "    <tr>\n",
              "      <th>12</th>\n",
              "      <td>I love to dance</td>\n",
              "      <td>pos</td>\n",
              "    </tr>\n",
              "    <tr>\n",
              "      <th>13</th>\n",
              "      <td>I am sick and tired of this place</td>\n",
              "      <td>neg</td>\n",
              "    </tr>\n",
              "    <tr>\n",
              "      <th>14</th>\n",
              "      <td>what a great holiday</td>\n",
              "      <td>pos</td>\n",
              "    </tr>\n",
              "    <tr>\n",
              "      <th>15</th>\n",
              "      <td>that is a bad locality to stay</td>\n",
              "      <td>neg</td>\n",
              "    </tr>\n",
              "    <tr>\n",
              "      <th>16</th>\n",
              "      <td>we will have good fun tomorrow</td>\n",
              "      <td>pos</td>\n",
              "    </tr>\n",
              "    <tr>\n",
              "      <th>17</th>\n",
              "      <td>I went to my enemy's house today</td>\n",
              "      <td>neg</td>\n",
              "    </tr>\n",
              "  </tbody>\n",
              "</table>\n",
              "</div>\n",
              "      <button class=\"colab-df-convert\" onclick=\"convertToInteractive('df-fd595d29-b167-4805-a6ee-aae32414189f')\"\n",
              "              title=\"Convert this dataframe to an interactive table.\"\n",
              "              style=\"display:none;\">\n",
              "        \n",
              "  <svg xmlns=\"http://www.w3.org/2000/svg\" height=\"24px\"viewBox=\"0 0 24 24\"\n",
              "       width=\"24px\">\n",
              "    <path d=\"M0 0h24v24H0V0z\" fill=\"none\"/>\n",
              "    <path d=\"M18.56 5.44l.94 2.06.94-2.06 2.06-.94-2.06-.94-.94-2.06-.94 2.06-2.06.94zm-11 1L8.5 8.5l.94-2.06 2.06-.94-2.06-.94L8.5 2.5l-.94 2.06-2.06.94zm10 10l.94 2.06.94-2.06 2.06-.94-2.06-.94-.94-2.06-.94 2.06-2.06.94z\"/><path d=\"M17.41 7.96l-1.37-1.37c-.4-.4-.92-.59-1.43-.59-.52 0-1.04.2-1.43.59L10.3 9.45l-7.72 7.72c-.78.78-.78 2.05 0 2.83L4 21.41c.39.39.9.59 1.41.59.51 0 1.02-.2 1.41-.59l7.78-7.78 2.81-2.81c.8-.78.8-2.07 0-2.86zM5.41 20L4 18.59l7.72-7.72 1.47 1.35L5.41 20z\"/>\n",
              "  </svg>\n",
              "      </button>\n",
              "      \n",
              "  <style>\n",
              "    .colab-df-container {\n",
              "      display:flex;\n",
              "      flex-wrap:wrap;\n",
              "      gap: 12px;\n",
              "    }\n",
              "\n",
              "    .colab-df-convert {\n",
              "      background-color: #E8F0FE;\n",
              "      border: none;\n",
              "      border-radius: 50%;\n",
              "      cursor: pointer;\n",
              "      display: none;\n",
              "      fill: #1967D2;\n",
              "      height: 32px;\n",
              "      padding: 0 0 0 0;\n",
              "      width: 32px;\n",
              "    }\n",
              "\n",
              "    .colab-df-convert:hover {\n",
              "      background-color: #E2EBFA;\n",
              "      box-shadow: 0px 1px 2px rgba(60, 64, 67, 0.3), 0px 1px 3px 1px rgba(60, 64, 67, 0.15);\n",
              "      fill: #174EA6;\n",
              "    }\n",
              "\n",
              "    [theme=dark] .colab-df-convert {\n",
              "      background-color: #3B4455;\n",
              "      fill: #D2E3FC;\n",
              "    }\n",
              "\n",
              "    [theme=dark] .colab-df-convert:hover {\n",
              "      background-color: #434B5C;\n",
              "      box-shadow: 0px 1px 3px 1px rgba(0, 0, 0, 0.15);\n",
              "      filter: drop-shadow(0px 1px 2px rgba(0, 0, 0, 0.3));\n",
              "      fill: #FFFFFF;\n",
              "    }\n",
              "  </style>\n",
              "\n",
              "      <script>\n",
              "        const buttonEl =\n",
              "          document.querySelector('#df-fd595d29-b167-4805-a6ee-aae32414189f button.colab-df-convert');\n",
              "        buttonEl.style.display =\n",
              "          google.colab.kernel.accessAllowed ? 'block' : 'none';\n",
              "\n",
              "        async function convertToInteractive(key) {\n",
              "          const element = document.querySelector('#df-fd595d29-b167-4805-a6ee-aae32414189f');\n",
              "          const dataTable =\n",
              "            await google.colab.kernel.invokeFunction('convertToInteractive',\n",
              "                                                     [key], {});\n",
              "          if (!dataTable) return;\n",
              "\n",
              "          const docLinkHtml = 'Like what you see? Visit the ' +\n",
              "            '<a target=\"_blank\" href=https://colab.research.google.com/notebooks/data_table.ipynb>data table notebook</a>'\n",
              "            + ' to learn more about interactive tables.';\n",
              "          element.innerHTML = '';\n",
              "          dataTable['output_type'] = 'display_data';\n",
              "          await google.colab.output.renderOutput(dataTable, element);\n",
              "          const docLink = document.createElement('div');\n",
              "          docLink.innerHTML = docLinkHtml;\n",
              "          element.appendChild(docLink);\n",
              "        }\n",
              "      </script>\n",
              "    </div>\n",
              "  </div>\n",
              "  "
            ]
          },
          "metadata": {},
          "execution_count": 5
        }
      ],
      "source": [
        "df=pd.read_excel(\"/content/drive/MyDrive/text_classification.xlsx\")\n",
        "df"
      ]
    },
    {
      "cell_type": "code",
      "execution_count": null,
      "metadata": {
        "id": "lh-S4R_fWw2H"
      },
      "outputs": [],
      "source": [
        "def naive_bayes(df,l):\n",
        "  dp={}\n",
        "  dn={}\n",
        "  p_df=df[df[df.columns[-1]]==\"pos\"]\n",
        "  pvocab=get_vocab(p_df)\n",
        "  p_yes=len(p_df)/len(df)\n",
        "\n",
        "  n_df=df[df[df.columns[-1]]==\"neg\"]\n",
        "  nvocab=get_vocab(n_df)\n",
        "  p_no=len(n_df)/len(df)\n",
        "\n",
        "  vocab=get_vocab(df)\n",
        "  vocab=list(set(vocab))\n",
        "  k=l.split()\n",
        "  psum=p_yes\n",
        "  nsum=p_no\n",
        "  for i in k:\n",
        "     psum*=(pvocab.count(i)+1)/(len(pvocab)+len(vocab))\n",
        "     nsum*=(nvocab.count(i)+1)/(len(nvocab)+len(vocab))\n",
        "  if psum>nsum:\n",
        "    return \"pos\"\n",
        "  else:\n",
        "    return \"neg\"\n",
        "\n",
        "\n",
        "\n",
        "\n"
      ]
    },
    {
      "cell_type": "code",
      "execution_count": null,
      "metadata": {
        "id": "702D0l5RcxR9"
      },
      "outputs": [],
      "source": [
        "def get_vocab(df):\n",
        "  vocab=[]\n",
        "  for i in range(len(df)):\n",
        "    l=df.iloc[i,:].str.split(\" \")\n",
        "    for j in l:\n",
        "        vocab.extend(j)\n",
        "  return vocab\n"
      ]
    },
    {
      "cell_type": "code",
      "execution_count": null,
      "metadata": {
        "colab": {
          "base_uri": "https://localhost:8080/"
        },
        "id": "fkOa-B1DdRf8",
        "outputId": "a7b2b599-10d3-4b6a-fcfa-017f719bac8e"
      },
      "outputs": [
        {
          "output_type": "stream",
          "name": "stdout",
          "text": [
            "['pos', 'neg', 'pos', 'neg', 'pos', 'neg', 'pos', 'neg']\n",
            "['pos', 'neg', 'pos', 'neg', 'pos', 'pos', 'pos', 'neg']\n"
          ]
        }
      ],
      "source": [
        "df_train=df.iloc[:10,:]\n",
        "l=df.iloc[10:,:-1]\n",
        "l=np.array(l)\n",
        "pred=[]\n",
        "act=df.iloc[10:,-1]\n",
        "print(list(act))\n",
        "for i in l:\n",
        "  pred.append(naive_bayes(df_train,i[0]))\n",
        "print(pred)\n"
      ]
    },
    {
      "cell_type": "code",
      "execution_count": null,
      "metadata": {
        "colab": {
          "base_uri": "https://localhost:8080/"
        },
        "id": "bNqGkiFgd9fE",
        "outputId": "4ca866e3-6bca-4882-a880-8a3f62c9d60f"
      },
      "outputs": [
        {
          "output_type": "stream",
          "name": "stdout",
          "text": [
            "confusion matrix [[3 1]\n",
            " [0 4]]\n",
            "recall score 1.0\n",
            "precision 0.8\n",
            "accuracy 87.5\n"
          ]
        }
      ],
      "source": [
        "from sklearn.metrics import (\n",
        "    accuracy_score,\n",
        "    confusion_matrix,\n",
        "    precision_score,\n",
        "    recall_score)\n",
        "a=accuracy_score(act,pred)\n",
        "l=confusion_matrix(act,pred)\n",
        "act1=change(act)\n",
        "pred1=change(pred)\n",
        "re=recall_score(act1,pred1)\n",
        "pr=precision_score(act1,pred1)\n",
        "print(\"confusion matrix\",l)\n",
        "print(\"recall score\",re)\n",
        "print(\"precision\",pr)\n",
        "print(\"accuracy\",a*100)\n"
      ]
    },
    {
      "cell_type": "code",
      "execution_count": null,
      "metadata": {
        "id": "ImfjXweHpsee"
      },
      "outputs": [],
      "source": [
        "def change(l):\n",
        "  k=[]\n",
        "  for i in l:\n",
        "    if i==\"pos\":\n",
        "      k.append(1)\n",
        "    else:\n",
        "      k.append(0)\n",
        "  return k"
      ]
    },
    {
      "cell_type": "code",
      "execution_count": null,
      "metadata": {
        "id": "oera7K8zrbZT"
      },
      "outputs": [],
      "source": []
    }
  ],
  "metadata": {
    "colab": {
      "provenance": [],
      "mount_file_id": "1byVIAC_bOWg57kGgZapLQA-B9VKCCdf7",
      "authorship_tag": "ABX9TyMKZWboVD/Ln7Txdb6HuHZ3",
      "include_colab_link": true
    },
    "kernelspec": {
      "display_name": "Python 3",
      "name": "python3"
    },
    "language_info": {
      "name": "python"
    }
  },
  "nbformat": 4,
  "nbformat_minor": 0
}