{
  "nbformat": 4,
  "nbformat_minor": 0,
  "metadata": {
    "colab": {
      "provenance": [],
      "mount_file_id": "1kOVmMuf5eBwFuhe9ea9645e9s_YWhBIk",
      "authorship_tag": "ABX9TyPVwmiL/Hi+GVQzJC7uGw2v",
      "include_colab_link": true
    },
    "kernelspec": {
      "name": "python3",
      "display_name": "Python 3"
    },
    "language_info": {
      "name": "python"
    }
  },
  "cells": [
    {
      "cell_type": "markdown",
      "metadata": {
        "id": "view-in-github",
        "colab_type": "text"
      },
      "source": [
        "<a href=\"https://colab.research.google.com/github/sravanikumku/ML/blob/main/knn.ipynb\" target=\"_parent\"><img src=\"https://colab.research.google.com/assets/colab-badge.svg\" alt=\"Open In Colab\"/></a>"
      ]
    },
    {
      "cell_type": "code",
      "execution_count": null,
      "metadata": {
        "id": "zQlhJ0Y6nkXN"
      },
      "outputs": [],
      "source": [
        "import pandas as pd\n",
        "from sklearn.model_selection import train_test_split\n",
        "from sklearn.neighbors import KNeighborsClassifier\n",
        "from sklearn.metrics import classification_report,confusion_matrix\n",
        "import numpy as np"
      ]
    },
    {
      "cell_type": "code",
      "source": [
        "df=pd.read_csv(\"/content/drive/MyDrive/Iris.csv\")\n",
        "df"
      ],
      "metadata": {
        "colab": {
          "base_uri": "https://localhost:8080/",
          "height": 423
        },
        "id": "QUS_4l_wsqdr",
        "outputId": "27650e1d-75cd-42aa-dc4a-8c774a5d1e48"
      },
      "execution_count": null,
      "outputs": [
        {
          "output_type": "execute_result",
          "data": {
            "text/plain": [
              "      Id  SepalLengthCm  SepalWidthCm  PetalLengthCm  PetalWidthCm  \\\n",
              "0      1            5.1           3.5            1.4           0.2   \n",
              "1      2            4.9           3.0            1.4           0.2   \n",
              "2      3            4.7           3.2            1.3           0.2   \n",
              "3      4            4.6           3.1            1.5           0.2   \n",
              "4      5            5.0           3.6            1.4           0.2   \n",
              "..   ...            ...           ...            ...           ...   \n",
              "145  146            6.7           3.0            5.2           2.3   \n",
              "146  147            6.3           2.5            5.0           1.9   \n",
              "147  148            6.5           3.0            5.2           2.0   \n",
              "148  149            6.2           3.4            5.4           2.3   \n",
              "149  150            5.9           3.0            5.1           1.8   \n",
              "\n",
              "            Species  \n",
              "0       Iris-setosa  \n",
              "1       Iris-setosa  \n",
              "2       Iris-setosa  \n",
              "3       Iris-setosa  \n",
              "4       Iris-setosa  \n",
              "..              ...  \n",
              "145  Iris-virginica  \n",
              "146  Iris-virginica  \n",
              "147  Iris-virginica  \n",
              "148  Iris-virginica  \n",
              "149  Iris-virginica  \n",
              "\n",
              "[150 rows x 6 columns]"
            ],
            "text/html": [
              "\n",
              "  <div id=\"df-1282dc9e-4756-4d65-8d37-aace38e6c80b\">\n",
              "    <div class=\"colab-df-container\">\n",
              "      <div>\n",
              "<style scoped>\n",
              "    .dataframe tbody tr th:only-of-type {\n",
              "        vertical-align: middle;\n",
              "    }\n",
              "\n",
              "    .dataframe tbody tr th {\n",
              "        vertical-align: top;\n",
              "    }\n",
              "\n",
              "    .dataframe thead th {\n",
              "        text-align: right;\n",
              "    }\n",
              "</style>\n",
              "<table border=\"1\" class=\"dataframe\">\n",
              "  <thead>\n",
              "    <tr style=\"text-align: right;\">\n",
              "      <th></th>\n",
              "      <th>Id</th>\n",
              "      <th>SepalLengthCm</th>\n",
              "      <th>SepalWidthCm</th>\n",
              "      <th>PetalLengthCm</th>\n",
              "      <th>PetalWidthCm</th>\n",
              "      <th>Species</th>\n",
              "    </tr>\n",
              "  </thead>\n",
              "  <tbody>\n",
              "    <tr>\n",
              "      <th>0</th>\n",
              "      <td>1</td>\n",
              "      <td>5.1</td>\n",
              "      <td>3.5</td>\n",
              "      <td>1.4</td>\n",
              "      <td>0.2</td>\n",
              "      <td>Iris-setosa</td>\n",
              "    </tr>\n",
              "    <tr>\n",
              "      <th>1</th>\n",
              "      <td>2</td>\n",
              "      <td>4.9</td>\n",
              "      <td>3.0</td>\n",
              "      <td>1.4</td>\n",
              "      <td>0.2</td>\n",
              "      <td>Iris-setosa</td>\n",
              "    </tr>\n",
              "    <tr>\n",
              "      <th>2</th>\n",
              "      <td>3</td>\n",
              "      <td>4.7</td>\n",
              "      <td>3.2</td>\n",
              "      <td>1.3</td>\n",
              "      <td>0.2</td>\n",
              "      <td>Iris-setosa</td>\n",
              "    </tr>\n",
              "    <tr>\n",
              "      <th>3</th>\n",
              "      <td>4</td>\n",
              "      <td>4.6</td>\n",
              "      <td>3.1</td>\n",
              "      <td>1.5</td>\n",
              "      <td>0.2</td>\n",
              "      <td>Iris-setosa</td>\n",
              "    </tr>\n",
              "    <tr>\n",
              "      <th>4</th>\n",
              "      <td>5</td>\n",
              "      <td>5.0</td>\n",
              "      <td>3.6</td>\n",
              "      <td>1.4</td>\n",
              "      <td>0.2</td>\n",
              "      <td>Iris-setosa</td>\n",
              "    </tr>\n",
              "    <tr>\n",
              "      <th>...</th>\n",
              "      <td>...</td>\n",
              "      <td>...</td>\n",
              "      <td>...</td>\n",
              "      <td>...</td>\n",
              "      <td>...</td>\n",
              "      <td>...</td>\n",
              "    </tr>\n",
              "    <tr>\n",
              "      <th>145</th>\n",
              "      <td>146</td>\n",
              "      <td>6.7</td>\n",
              "      <td>3.0</td>\n",
              "      <td>5.2</td>\n",
              "      <td>2.3</td>\n",
              "      <td>Iris-virginica</td>\n",
              "    </tr>\n",
              "    <tr>\n",
              "      <th>146</th>\n",
              "      <td>147</td>\n",
              "      <td>6.3</td>\n",
              "      <td>2.5</td>\n",
              "      <td>5.0</td>\n",
              "      <td>1.9</td>\n",
              "      <td>Iris-virginica</td>\n",
              "    </tr>\n",
              "    <tr>\n",
              "      <th>147</th>\n",
              "      <td>148</td>\n",
              "      <td>6.5</td>\n",
              "      <td>3.0</td>\n",
              "      <td>5.2</td>\n",
              "      <td>2.0</td>\n",
              "      <td>Iris-virginica</td>\n",
              "    </tr>\n",
              "    <tr>\n",
              "      <th>148</th>\n",
              "      <td>149</td>\n",
              "      <td>6.2</td>\n",
              "      <td>3.4</td>\n",
              "      <td>5.4</td>\n",
              "      <td>2.3</td>\n",
              "      <td>Iris-virginica</td>\n",
              "    </tr>\n",
              "    <tr>\n",
              "      <th>149</th>\n",
              "      <td>150</td>\n",
              "      <td>5.9</td>\n",
              "      <td>3.0</td>\n",
              "      <td>5.1</td>\n",
              "      <td>1.8</td>\n",
              "      <td>Iris-virginica</td>\n",
              "    </tr>\n",
              "  </tbody>\n",
              "</table>\n",
              "<p>150 rows × 6 columns</p>\n",
              "</div>\n",
              "      <button class=\"colab-df-convert\" onclick=\"convertToInteractive('df-1282dc9e-4756-4d65-8d37-aace38e6c80b')\"\n",
              "              title=\"Convert this dataframe to an interactive table.\"\n",
              "              style=\"display:none;\">\n",
              "        \n",
              "  <svg xmlns=\"http://www.w3.org/2000/svg\" height=\"24px\"viewBox=\"0 0 24 24\"\n",
              "       width=\"24px\">\n",
              "    <path d=\"M0 0h24v24H0V0z\" fill=\"none\"/>\n",
              "    <path d=\"M18.56 5.44l.94 2.06.94-2.06 2.06-.94-2.06-.94-.94-2.06-.94 2.06-2.06.94zm-11 1L8.5 8.5l.94-2.06 2.06-.94-2.06-.94L8.5 2.5l-.94 2.06-2.06.94zm10 10l.94 2.06.94-2.06 2.06-.94-2.06-.94-.94-2.06-.94 2.06-2.06.94z\"/><path d=\"M17.41 7.96l-1.37-1.37c-.4-.4-.92-.59-1.43-.59-.52 0-1.04.2-1.43.59L10.3 9.45l-7.72 7.72c-.78.78-.78 2.05 0 2.83L4 21.41c.39.39.9.59 1.41.59.51 0 1.02-.2 1.41-.59l7.78-7.78 2.81-2.81c.8-.78.8-2.07 0-2.86zM5.41 20L4 18.59l7.72-7.72 1.47 1.35L5.41 20z\"/>\n",
              "  </svg>\n",
              "      </button>\n",
              "      \n",
              "  <style>\n",
              "    .colab-df-container {\n",
              "      display:flex;\n",
              "      flex-wrap:wrap;\n",
              "      gap: 12px;\n",
              "    }\n",
              "\n",
              "    .colab-df-convert {\n",
              "      background-color: #E8F0FE;\n",
              "      border: none;\n",
              "      border-radius: 50%;\n",
              "      cursor: pointer;\n",
              "      display: none;\n",
              "      fill: #1967D2;\n",
              "      height: 32px;\n",
              "      padding: 0 0 0 0;\n",
              "      width: 32px;\n",
              "    }\n",
              "\n",
              "    .colab-df-convert:hover {\n",
              "      background-color: #E2EBFA;\n",
              "      box-shadow: 0px 1px 2px rgba(60, 64, 67, 0.3), 0px 1px 3px 1px rgba(60, 64, 67, 0.15);\n",
              "      fill: #174EA6;\n",
              "    }\n",
              "\n",
              "    [theme=dark] .colab-df-convert {\n",
              "      background-color: #3B4455;\n",
              "      fill: #D2E3FC;\n",
              "    }\n",
              "\n",
              "    [theme=dark] .colab-df-convert:hover {\n",
              "      background-color: #434B5C;\n",
              "      box-shadow: 0px 1px 3px 1px rgba(0, 0, 0, 0.15);\n",
              "      filter: drop-shadow(0px 1px 2px rgba(0, 0, 0, 0.3));\n",
              "      fill: #FFFFFF;\n",
              "    }\n",
              "  </style>\n",
              "\n",
              "      <script>\n",
              "        const buttonEl =\n",
              "          document.querySelector('#df-1282dc9e-4756-4d65-8d37-aace38e6c80b button.colab-df-convert');\n",
              "        buttonEl.style.display =\n",
              "          google.colab.kernel.accessAllowed ? 'block' : 'none';\n",
              "\n",
              "        async function convertToInteractive(key) {\n",
              "          const element = document.querySelector('#df-1282dc9e-4756-4d65-8d37-aace38e6c80b');\n",
              "          const dataTable =\n",
              "            await google.colab.kernel.invokeFunction('convertToInteractive',\n",
              "                                                     [key], {});\n",
              "          if (!dataTable) return;\n",
              "\n",
              "          const docLinkHtml = 'Like what you see? Visit the ' +\n",
              "            '<a target=\"_blank\" href=https://colab.research.google.com/notebooks/data_table.ipynb>data table notebook</a>'\n",
              "            + ' to learn more about interactive tables.';\n",
              "          element.innerHTML = '';\n",
              "          dataTable['output_type'] = 'display_data';\n",
              "          await google.colab.output.renderOutput(dataTable, element);\n",
              "          const docLink = document.createElement('div');\n",
              "          docLink.innerHTML = docLinkHtml;\n",
              "          element.appendChild(docLink);\n",
              "        }\n",
              "      </script>\n",
              "    </div>\n",
              "  </div>\n",
              "  "
            ]
          },
          "metadata": {},
          "execution_count": 2
        }
      ]
    },
    {
      "cell_type": "code",
      "source": [],
      "metadata": {
        "id": "zVl9qyCQd4nH"
      },
      "execution_count": null,
      "outputs": []
    },
    {
      "cell_type": "code",
      "source": [
        "x_train,x_test,y_train,y_test=train_test_split(df,df.iloc[:,-1],test_size=0.1)\n"
      ],
      "metadata": {
        "id": "0mAWqOKufBBe"
      },
      "execution_count": null,
      "outputs": []
    },
    {
      "cell_type": "code",
      "source": [
        "test=x_test.iloc[:,:]\n",
        "test=np.array(test)"
      ],
      "metadata": {
        "id": "XBD0TdYykbRM"
      },
      "execution_count": null,
      "outputs": []
    },
    {
      "cell_type": "code",
      "source": [
        "print(test)"
      ],
      "metadata": {
        "colab": {
          "base_uri": "https://localhost:8080/"
        },
        "id": "YLRxvH7-lPSA",
        "outputId": "9e61ec60-b856-4d67-a4f7-fe2c10cc6a9a"
      },
      "execution_count": null,
      "outputs": [
        {
          "output_type": "stream",
          "name": "stdout",
          "text": [
            "[[43 4.4 3.2 1.3 0.2 'Iris-setosa']\n",
            " [111 6.5 3.2 5.1 2.0 'Iris-virginica']\n",
            " [97 5.7 2.9 4.2 1.3 'Iris-versicolor']\n",
            " [15 5.8 4.0 1.2 0.2 'Iris-setosa']\n",
            " [127 6.2 2.8 4.8 1.8 'Iris-virginica']\n",
            " [26 5.0 3.0 1.6 0.2 'Iris-setosa']\n",
            " [46 4.8 3.0 1.4 0.3 'Iris-setosa']\n",
            " [126 7.2 3.2 6.0 1.8 'Iris-virginica']\n",
            " [79 6.0 2.9 4.5 1.5 'Iris-versicolor']\n",
            " [65 5.6 2.9 3.6 1.3 'Iris-versicolor']\n",
            " [11 5.4 3.7 1.5 0.2 'Iris-setosa']\n",
            " [32 5.4 3.4 1.5 0.4 'Iris-setosa']\n",
            " [102 5.8 2.7 5.1 1.9 'Iris-virginica']\n",
            " [143 5.8 2.7 5.1 1.9 'Iris-virginica']\n",
            " [63 6.0 2.2 4.0 1.0 'Iris-versicolor']]\n"
          ]
        }
      ]
    },
    {
      "cell_type": "code",
      "source": [
        "df_train=df.iloc[:-15,:]\n",
        "df_test=df.iloc[-15:,:-1]\n",
        "print(df_test)\n",
        "df_test=np.array(df_test)\n",
        "df_test"
      ],
      "metadata": {
        "colab": {
          "base_uri": "https://localhost:8080/"
        },
        "id": "14NQEnm0sxO0",
        "outputId": "eaa63a17-0efa-49d5-e0b5-2f46e023aec1"
      },
      "execution_count": null,
      "outputs": [
        {
          "output_type": "stream",
          "name": "stdout",
          "text": [
            "      Id  SepalLengthCm  SepalWidthCm  PetalLengthCm  PetalWidthCm\n",
            "135  136            7.7           3.0            6.1           2.3\n",
            "136  137            6.3           3.4            5.6           2.4\n",
            "137  138            6.4           3.1            5.5           1.8\n",
            "138  139            6.0           3.0            4.8           1.8\n",
            "139  140            6.9           3.1            5.4           2.1\n",
            "140  141            6.7           3.1            5.6           2.4\n",
            "141  142            6.9           3.1            5.1           2.3\n",
            "142  143            5.8           2.7            5.1           1.9\n",
            "143  144            6.8           3.2            5.9           2.3\n",
            "144  145            6.7           3.3            5.7           2.5\n",
            "145  146            6.7           3.0            5.2           2.3\n",
            "146  147            6.3           2.5            5.0           1.9\n",
            "147  148            6.5           3.0            5.2           2.0\n",
            "148  149            6.2           3.4            5.4           2.3\n",
            "149  150            5.9           3.0            5.1           1.8\n"
          ]
        },
        {
          "output_type": "execute_result",
          "data": {
            "text/plain": [
              "array([[136. ,   7.7,   3. ,   6.1,   2.3],\n",
              "       [137. ,   6.3,   3.4,   5.6,   2.4],\n",
              "       [138. ,   6.4,   3.1,   5.5,   1.8],\n",
              "       [139. ,   6. ,   3. ,   4.8,   1.8],\n",
              "       [140. ,   6.9,   3.1,   5.4,   2.1],\n",
              "       [141. ,   6.7,   3.1,   5.6,   2.4],\n",
              "       [142. ,   6.9,   3.1,   5.1,   2.3],\n",
              "       [143. ,   5.8,   2.7,   5.1,   1.9],\n",
              "       [144. ,   6.8,   3.2,   5.9,   2.3],\n",
              "       [145. ,   6.7,   3.3,   5.7,   2.5],\n",
              "       [146. ,   6.7,   3. ,   5.2,   2.3],\n",
              "       [147. ,   6.3,   2.5,   5. ,   1.9],\n",
              "       [148. ,   6.5,   3. ,   5.2,   2. ],\n",
              "       [149. ,   6.2,   3.4,   5.4,   2.3],\n",
              "       [150. ,   5.9,   3. ,   5.1,   1.8]])"
            ]
          },
          "metadata": {},
          "execution_count": 5
        }
      ]
    },
    {
      "cell_type": "code",
      "source": [
        "import copy\n",
        "def knn(df1,df_test1,k):\n",
        "  df=copy.deepcopy(df1)\n",
        "  classes=df.iloc[:,-1].unique()\n",
        "  df_test=df_test1[:-1]\n",
        "  y_act=df_test1[-1]\n",
        "  sum=0\n",
        "  d={}\n",
        "\n",
        "  for i in range(len(df)):\n",
        "\n",
        "    df.loc[i,'Rank']=edist(df_test,df.iloc[i,:-1])\n",
        "\n",
        "  df=df.sort_values(by=\"Rank\",ascending=True)\n",
        "  df_k=df.iloc[:k,:-1]\n",
        "  for j in classes:\n",
        "    sum=0\n",
        "    for i in range(len(df_k)):\n",
        "      sum+=df_k.iloc[i,-1]==j\n",
        "    d[j]=sum\n",
        "\n",
        "  m1=max(d.values())\n",
        "  for i in d.keys():\n",
        "    if d[i]==m1:\n",
        "      print(\"Actual\",y_act,\"Predicted\",i)\n",
        "      return p\n",
        "\n",
        "\n",
        "\n",
        "\n",
        "\n",
        "\n",
        "\n",
        "p=[]\n",
        "for i in range(len(test)):\n",
        "       p.append(knn(x_train,test[i],4))"
      ],
      "metadata": {
        "colab": {
          "base_uri": "https://localhost:8080/"
        },
        "id": "M45qgGoGtWVb",
        "outputId": "ad2e0e24-85a0-4d08-88b6-befe1b1fc8be"
      },
      "execution_count": null,
      "outputs": [
        {
          "output_type": "stream",
          "name": "stdout",
          "text": [
            "Actual Iris-versicolor Predicted Iris-versicolor\n",
            "Actual Iris-virginica Predicted Iris-setosa\n",
            "Actual Iris-versicolor Predicted Iris-setosa\n",
            "Actual Iris-virginica Predicted Iris-setosa\n",
            "Actual Iris-virginica Predicted Iris-setosa\n",
            "Actual Iris-versicolor Predicted Iris-versicolor\n",
            "Actual Iris-virginica Predicted Iris-virginica\n",
            "Actual Iris-virginica Predicted Iris-setosa\n",
            "Actual Iris-setosa Predicted Iris-setosa\n",
            "Actual Iris-versicolor Predicted Iris-setosa\n",
            "Actual Iris-setosa Predicted Iris-versicolor\n",
            "Actual Iris-versicolor Predicted Iris-setosa\n",
            "Actual Iris-setosa Predicted Iris-setosa\n",
            "Actual Iris-virginica Predicted Iris-setosa\n",
            "Actual Iris-versicolor Predicted Iris-versicolor\n"
          ]
        }
      ]
    },
    {
      "cell_type": "code",
      "source": [
        "from math import sqrt\n",
        "def edist(l,k):\n",
        "  s=0\n",
        "  for i in range(len(l)):\n",
        "    s+=(l[i]-k[i])**2\n",
        "  return sqrt(s)"
      ],
      "metadata": {
        "id": "gJE0BJGDt-37"
      },
      "execution_count": null,
      "outputs": []
    },
    {
      "cell_type": "code",
      "source": [
        "d={\"p\":8,\"l\":9,\"j\":3}\n",
        "m=sorted(d)\n",
        "m"
      ],
      "metadata": {
        "id": "MER4egrcti39"
      },
      "execution_count": null,
      "outputs": []
    },
    {
      "cell_type": "code",
      "source": [],
      "metadata": {
        "id": "FtJNLTxA1xVN"
      },
      "execution_count": null,
      "outputs": []
    },
    {
      "cell_type": "code",
      "source": [],
      "metadata": {
        "id": "NJup3tZxYRhJ"
      },
      "execution_count": null,
      "outputs": []
    },
    {
      "cell_type": "code",
      "source": [],
      "metadata": {
        "id": "FCGBkBEYYWuB"
      },
      "execution_count": null,
      "outputs": []
    }
  ]
}