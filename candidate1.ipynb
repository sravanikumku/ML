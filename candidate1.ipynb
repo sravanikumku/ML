{
  "nbformat": 4,
  "nbformat_minor": 0,
  "metadata": {
    "colab": {
      "provenance": [],
      "mount_file_id": "1TR6d_hRCKa54i1-SuFsVH8iyLtgM1Oks",
      "authorship_tag": "ABX9TyOX2s61hAoxxgNEGIgvQvx8",
      "include_colab_link": true
    },
    "kernelspec": {
      "name": "python3",
      "display_name": "Python 3"
    },
    "language_info": {
      "name": "python"
    }
  },
  "cells": [
    {
      "cell_type": "markdown",
      "metadata": {
        "id": "view-in-github",
        "colab_type": "text"
      },
      "source": [
        "<a href=\"https://colab.research.google.com/github/sravanikumku/ML/blob/main/candidate1.ipynb\" target=\"_parent\"><img src=\"https://colab.research.google.com/assets/colab-badge.svg\" alt=\"Open In Colab\"/></a>"
      ]
    },
    {
      "cell_type": "code",
      "execution_count": null,
      "metadata": {
        "id": "N98hisBLDpkt"
      },
      "outputs": [],
      "source": [
        "import pandas as pd"
      ]
    },
    {
      "cell_type": "code",
      "source": [
        "df=pd.read_excel(\"/content/drive/MyDrive/ml2.xlsx\")\n",
        "df\n"
      ],
      "metadata": {
        "colab": {
          "base_uri": "https://localhost:8080/",
          "height": 206
        },
        "id": "PQETBQjmDyce",
        "outputId": "d6528235-5b64-4163-afd6-d922cba6a291"
      },
      "execution_count": null,
      "outputs": [
        {
          "output_type": "execute_result",
          "data": {
            "text/plain": [
              "    size color     shape class\n",
              "0    big   red    circle    no\n",
              "1  small   red  traingle    no\n",
              "2  small   red    circle   yes\n",
              "3    big  blue    circle    no\n",
              "4  small  blue    circle   yes"
            ],
            "text/html": [
              "\n",
              "  <div id=\"df-d5a1b2db-989f-4bef-b4cb-118ff238fd93\">\n",
              "    <div class=\"colab-df-container\">\n",
              "      <div>\n",
              "<style scoped>\n",
              "    .dataframe tbody tr th:only-of-type {\n",
              "        vertical-align: middle;\n",
              "    }\n",
              "\n",
              "    .dataframe tbody tr th {\n",
              "        vertical-align: top;\n",
              "    }\n",
              "\n",
              "    .dataframe thead th {\n",
              "        text-align: right;\n",
              "    }\n",
              "</style>\n",
              "<table border=\"1\" class=\"dataframe\">\n",
              "  <thead>\n",
              "    <tr style=\"text-align: right;\">\n",
              "      <th></th>\n",
              "      <th>size</th>\n",
              "      <th>color</th>\n",
              "      <th>shape</th>\n",
              "      <th>class</th>\n",
              "    </tr>\n",
              "  </thead>\n",
              "  <tbody>\n",
              "    <tr>\n",
              "      <th>0</th>\n",
              "      <td>big</td>\n",
              "      <td>red</td>\n",
              "      <td>circle</td>\n",
              "      <td>no</td>\n",
              "    </tr>\n",
              "    <tr>\n",
              "      <th>1</th>\n",
              "      <td>small</td>\n",
              "      <td>red</td>\n",
              "      <td>traingle</td>\n",
              "      <td>no</td>\n",
              "    </tr>\n",
              "    <tr>\n",
              "      <th>2</th>\n",
              "      <td>small</td>\n",
              "      <td>red</td>\n",
              "      <td>circle</td>\n",
              "      <td>yes</td>\n",
              "    </tr>\n",
              "    <tr>\n",
              "      <th>3</th>\n",
              "      <td>big</td>\n",
              "      <td>blue</td>\n",
              "      <td>circle</td>\n",
              "      <td>no</td>\n",
              "    </tr>\n",
              "    <tr>\n",
              "      <th>4</th>\n",
              "      <td>small</td>\n",
              "      <td>blue</td>\n",
              "      <td>circle</td>\n",
              "      <td>yes</td>\n",
              "    </tr>\n",
              "  </tbody>\n",
              "</table>\n",
              "</div>\n",
              "      <button class=\"colab-df-convert\" onclick=\"convertToInteractive('df-d5a1b2db-989f-4bef-b4cb-118ff238fd93')\"\n",
              "              title=\"Convert this dataframe to an interactive table.\"\n",
              "              style=\"display:none;\">\n",
              "        \n",
              "  <svg xmlns=\"http://www.w3.org/2000/svg\" height=\"24px\"viewBox=\"0 0 24 24\"\n",
              "       width=\"24px\">\n",
              "    <path d=\"M0 0h24v24H0V0z\" fill=\"none\"/>\n",
              "    <path d=\"M18.56 5.44l.94 2.06.94-2.06 2.06-.94-2.06-.94-.94-2.06-.94 2.06-2.06.94zm-11 1L8.5 8.5l.94-2.06 2.06-.94-2.06-.94L8.5 2.5l-.94 2.06-2.06.94zm10 10l.94 2.06.94-2.06 2.06-.94-2.06-.94-.94-2.06-.94 2.06-2.06.94z\"/><path d=\"M17.41 7.96l-1.37-1.37c-.4-.4-.92-.59-1.43-.59-.52 0-1.04.2-1.43.59L10.3 9.45l-7.72 7.72c-.78.78-.78 2.05 0 2.83L4 21.41c.39.39.9.59 1.41.59.51 0 1.02-.2 1.41-.59l7.78-7.78 2.81-2.81c.8-.78.8-2.07 0-2.86zM5.41 20L4 18.59l7.72-7.72 1.47 1.35L5.41 20z\"/>\n",
              "  </svg>\n",
              "      </button>\n",
              "      \n",
              "  <style>\n",
              "    .colab-df-container {\n",
              "      display:flex;\n",
              "      flex-wrap:wrap;\n",
              "      gap: 12px;\n",
              "    }\n",
              "\n",
              "    .colab-df-convert {\n",
              "      background-color: #E8F0FE;\n",
              "      border: none;\n",
              "      border-radius: 50%;\n",
              "      cursor: pointer;\n",
              "      display: none;\n",
              "      fill: #1967D2;\n",
              "      height: 32px;\n",
              "      padding: 0 0 0 0;\n",
              "      width: 32px;\n",
              "    }\n",
              "\n",
              "    .colab-df-convert:hover {\n",
              "      background-color: #E2EBFA;\n",
              "      box-shadow: 0px 1px 2px rgba(60, 64, 67, 0.3), 0px 1px 3px 1px rgba(60, 64, 67, 0.15);\n",
              "      fill: #174EA6;\n",
              "    }\n",
              "\n",
              "    [theme=dark] .colab-df-convert {\n",
              "      background-color: #3B4455;\n",
              "      fill: #D2E3FC;\n",
              "    }\n",
              "\n",
              "    [theme=dark] .colab-df-convert:hover {\n",
              "      background-color: #434B5C;\n",
              "      box-shadow: 0px 1px 3px 1px rgba(0, 0, 0, 0.15);\n",
              "      filter: drop-shadow(0px 1px 2px rgba(0, 0, 0, 0.3));\n",
              "      fill: #FFFFFF;\n",
              "    }\n",
              "  </style>\n",
              "\n",
              "      <script>\n",
              "        const buttonEl =\n",
              "          document.querySelector('#df-d5a1b2db-989f-4bef-b4cb-118ff238fd93 button.colab-df-convert');\n",
              "        buttonEl.style.display =\n",
              "          google.colab.kernel.accessAllowed ? 'block' : 'none';\n",
              "\n",
              "        async function convertToInteractive(key) {\n",
              "          const element = document.querySelector('#df-d5a1b2db-989f-4bef-b4cb-118ff238fd93');\n",
              "          const dataTable =\n",
              "            await google.colab.kernel.invokeFunction('convertToInteractive',\n",
              "                                                     [key], {});\n",
              "          if (!dataTable) return;\n",
              "\n",
              "          const docLinkHtml = 'Like what you see? Visit the ' +\n",
              "            '<a target=\"_blank\" href=https://colab.research.google.com/notebooks/data_table.ipynb>data table notebook</a>'\n",
              "            + ' to learn more about interactive tables.';\n",
              "          element.innerHTML = '';\n",
              "          dataTable['output_type'] = 'display_data';\n",
              "          await google.colab.output.renderOutput(dataTable, element);\n",
              "          const docLink = document.createElement('div');\n",
              "          docLink.innerHTML = docLinkHtml;\n",
              "          element.appendChild(docLink);\n",
              "        }\n",
              "      </script>\n",
              "    </div>\n",
              "  </div>\n",
              "  "
            ]
          },
          "metadata": {},
          "execution_count": 157
        }
      ]
    },
    {
      "cell_type": "code",
      "source": [
        "df=pd.read_csv(\"/content/play_tennis.csv\")\n",
        "df=df.iloc[:,1:]\n",
        "df"
      ],
      "metadata": {
        "colab": {
          "base_uri": "https://localhost:8080/",
          "height": 488
        },
        "id": "gD2y3ifMtM2U",
        "outputId": "6bd43527-3cab-470b-9da3-1ec2971da22e"
      },
      "execution_count": null,
      "outputs": [
        {
          "output_type": "execute_result",
          "data": {
            "text/plain": [
              "     outlook  temp humidity    wind play\n",
              "0      Sunny   Hot     High    Weak   No\n",
              "1      Sunny   Hot     High  Strong   No\n",
              "2   Overcast   Hot     High    Weak  Yes\n",
              "3       Rain  Mild     High    Weak  Yes\n",
              "4       Rain  Cool   Normal    Weak  Yes\n",
              "5       Rain  Cool   Normal  Strong   No\n",
              "6   Overcast  Cool   Normal  Strong  Yes\n",
              "7      Sunny  Mild     High    Weak   No\n",
              "8      Sunny  Cool   Normal    Weak  Yes\n",
              "9       Rain  Mild   Normal    Weak  Yes\n",
              "10     Sunny  Mild   Normal  Strong  Yes\n",
              "11  Overcast  Mild     High  Strong  Yes\n",
              "12  Overcast   Hot   Normal    Weak  Yes\n",
              "13      Rain  Mild     High  Strong   No"
            ],
            "text/html": [
              "\n",
              "  <div id=\"df-329ff5af-2330-487e-a02b-84994d9ed2d5\">\n",
              "    <div class=\"colab-df-container\">\n",
              "      <div>\n",
              "<style scoped>\n",
              "    .dataframe tbody tr th:only-of-type {\n",
              "        vertical-align: middle;\n",
              "    }\n",
              "\n",
              "    .dataframe tbody tr th {\n",
              "        vertical-align: top;\n",
              "    }\n",
              "\n",
              "    .dataframe thead th {\n",
              "        text-align: right;\n",
              "    }\n",
              "</style>\n",
              "<table border=\"1\" class=\"dataframe\">\n",
              "  <thead>\n",
              "    <tr style=\"text-align: right;\">\n",
              "      <th></th>\n",
              "      <th>outlook</th>\n",
              "      <th>temp</th>\n",
              "      <th>humidity</th>\n",
              "      <th>wind</th>\n",
              "      <th>play</th>\n",
              "    </tr>\n",
              "  </thead>\n",
              "  <tbody>\n",
              "    <tr>\n",
              "      <th>0</th>\n",
              "      <td>Sunny</td>\n",
              "      <td>Hot</td>\n",
              "      <td>High</td>\n",
              "      <td>Weak</td>\n",
              "      <td>No</td>\n",
              "    </tr>\n",
              "    <tr>\n",
              "      <th>1</th>\n",
              "      <td>Sunny</td>\n",
              "      <td>Hot</td>\n",
              "      <td>High</td>\n",
              "      <td>Strong</td>\n",
              "      <td>No</td>\n",
              "    </tr>\n",
              "    <tr>\n",
              "      <th>2</th>\n",
              "      <td>Overcast</td>\n",
              "      <td>Hot</td>\n",
              "      <td>High</td>\n",
              "      <td>Weak</td>\n",
              "      <td>Yes</td>\n",
              "    </tr>\n",
              "    <tr>\n",
              "      <th>3</th>\n",
              "      <td>Rain</td>\n",
              "      <td>Mild</td>\n",
              "      <td>High</td>\n",
              "      <td>Weak</td>\n",
              "      <td>Yes</td>\n",
              "    </tr>\n",
              "    <tr>\n",
              "      <th>4</th>\n",
              "      <td>Rain</td>\n",
              "      <td>Cool</td>\n",
              "      <td>Normal</td>\n",
              "      <td>Weak</td>\n",
              "      <td>Yes</td>\n",
              "    </tr>\n",
              "    <tr>\n",
              "      <th>5</th>\n",
              "      <td>Rain</td>\n",
              "      <td>Cool</td>\n",
              "      <td>Normal</td>\n",
              "      <td>Strong</td>\n",
              "      <td>No</td>\n",
              "    </tr>\n",
              "    <tr>\n",
              "      <th>6</th>\n",
              "      <td>Overcast</td>\n",
              "      <td>Cool</td>\n",
              "      <td>Normal</td>\n",
              "      <td>Strong</td>\n",
              "      <td>Yes</td>\n",
              "    </tr>\n",
              "    <tr>\n",
              "      <th>7</th>\n",
              "      <td>Sunny</td>\n",
              "      <td>Mild</td>\n",
              "      <td>High</td>\n",
              "      <td>Weak</td>\n",
              "      <td>No</td>\n",
              "    </tr>\n",
              "    <tr>\n",
              "      <th>8</th>\n",
              "      <td>Sunny</td>\n",
              "      <td>Cool</td>\n",
              "      <td>Normal</td>\n",
              "      <td>Weak</td>\n",
              "      <td>Yes</td>\n",
              "    </tr>\n",
              "    <tr>\n",
              "      <th>9</th>\n",
              "      <td>Rain</td>\n",
              "      <td>Mild</td>\n",
              "      <td>Normal</td>\n",
              "      <td>Weak</td>\n",
              "      <td>Yes</td>\n",
              "    </tr>\n",
              "    <tr>\n",
              "      <th>10</th>\n",
              "      <td>Sunny</td>\n",
              "      <td>Mild</td>\n",
              "      <td>Normal</td>\n",
              "      <td>Strong</td>\n",
              "      <td>Yes</td>\n",
              "    </tr>\n",
              "    <tr>\n",
              "      <th>11</th>\n",
              "      <td>Overcast</td>\n",
              "      <td>Mild</td>\n",
              "      <td>High</td>\n",
              "      <td>Strong</td>\n",
              "      <td>Yes</td>\n",
              "    </tr>\n",
              "    <tr>\n",
              "      <th>12</th>\n",
              "      <td>Overcast</td>\n",
              "      <td>Hot</td>\n",
              "      <td>Normal</td>\n",
              "      <td>Weak</td>\n",
              "      <td>Yes</td>\n",
              "    </tr>\n",
              "    <tr>\n",
              "      <th>13</th>\n",
              "      <td>Rain</td>\n",
              "      <td>Mild</td>\n",
              "      <td>High</td>\n",
              "      <td>Strong</td>\n",
              "      <td>No</td>\n",
              "    </tr>\n",
              "  </tbody>\n",
              "</table>\n",
              "</div>\n",
              "      <button class=\"colab-df-convert\" onclick=\"convertToInteractive('df-329ff5af-2330-487e-a02b-84994d9ed2d5')\"\n",
              "              title=\"Convert this dataframe to an interactive table.\"\n",
              "              style=\"display:none;\">\n",
              "        \n",
              "  <svg xmlns=\"http://www.w3.org/2000/svg\" height=\"24px\"viewBox=\"0 0 24 24\"\n",
              "       width=\"24px\">\n",
              "    <path d=\"M0 0h24v24H0V0z\" fill=\"none\"/>\n",
              "    <path d=\"M18.56 5.44l.94 2.06.94-2.06 2.06-.94-2.06-.94-.94-2.06-.94 2.06-2.06.94zm-11 1L8.5 8.5l.94-2.06 2.06-.94-2.06-.94L8.5 2.5l-.94 2.06-2.06.94zm10 10l.94 2.06.94-2.06 2.06-.94-2.06-.94-.94-2.06-.94 2.06-2.06.94z\"/><path d=\"M17.41 7.96l-1.37-1.37c-.4-.4-.92-.59-1.43-.59-.52 0-1.04.2-1.43.59L10.3 9.45l-7.72 7.72c-.78.78-.78 2.05 0 2.83L4 21.41c.39.39.9.59 1.41.59.51 0 1.02-.2 1.41-.59l7.78-7.78 2.81-2.81c.8-.78.8-2.07 0-2.86zM5.41 20L4 18.59l7.72-7.72 1.47 1.35L5.41 20z\"/>\n",
              "  </svg>\n",
              "      </button>\n",
              "      \n",
              "  <style>\n",
              "    .colab-df-container {\n",
              "      display:flex;\n",
              "      flex-wrap:wrap;\n",
              "      gap: 12px;\n",
              "    }\n",
              "\n",
              "    .colab-df-convert {\n",
              "      background-color: #E8F0FE;\n",
              "      border: none;\n",
              "      border-radius: 50%;\n",
              "      cursor: pointer;\n",
              "      display: none;\n",
              "      fill: #1967D2;\n",
              "      height: 32px;\n",
              "      padding: 0 0 0 0;\n",
              "      width: 32px;\n",
              "    }\n",
              "\n",
              "    .colab-df-convert:hover {\n",
              "      background-color: #E2EBFA;\n",
              "      box-shadow: 0px 1px 2px rgba(60, 64, 67, 0.3), 0px 1px 3px 1px rgba(60, 64, 67, 0.15);\n",
              "      fill: #174EA6;\n",
              "    }\n",
              "\n",
              "    [theme=dark] .colab-df-convert {\n",
              "      background-color: #3B4455;\n",
              "      fill: #D2E3FC;\n",
              "    }\n",
              "\n",
              "    [theme=dark] .colab-df-convert:hover {\n",
              "      background-color: #434B5C;\n",
              "      box-shadow: 0px 1px 3px 1px rgba(0, 0, 0, 0.15);\n",
              "      filter: drop-shadow(0px 1px 2px rgba(0, 0, 0, 0.3));\n",
              "      fill: #FFFFFF;\n",
              "    }\n",
              "  </style>\n",
              "\n",
              "      <script>\n",
              "        const buttonEl =\n",
              "          document.querySelector('#df-329ff5af-2330-487e-a02b-84994d9ed2d5 button.colab-df-convert');\n",
              "        buttonEl.style.display =\n",
              "          google.colab.kernel.accessAllowed ? 'block' : 'none';\n",
              "\n",
              "        async function convertToInteractive(key) {\n",
              "          const element = document.querySelector('#df-329ff5af-2330-487e-a02b-84994d9ed2d5');\n",
              "          const dataTable =\n",
              "            await google.colab.kernel.invokeFunction('convertToInteractive',\n",
              "                                                     [key], {});\n",
              "          if (!dataTable) return;\n",
              "\n",
              "          const docLinkHtml = 'Like what you see? Visit the ' +\n",
              "            '<a target=\"_blank\" href=https://colab.research.google.com/notebooks/data_table.ipynb>data table notebook</a>'\n",
              "            + ' to learn more about interactive tables.';\n",
              "          element.innerHTML = '';\n",
              "          dataTable['output_type'] = 'display_data';\n",
              "          await google.colab.output.renderOutput(dataTable, element);\n",
              "          const docLink = document.createElement('div');\n",
              "          docLink.innerHTML = docLinkHtml;\n",
              "          element.appendChild(docLink);\n",
              "        }\n",
              "      </script>\n",
              "    </div>\n",
              "  </div>\n",
              "  "
            ]
          },
          "metadata": {},
          "execution_count": 186
        }
      ]
    },
    {
      "cell_type": "code",
      "source": [
        "df=pd.read_excel(\"/content/drive/MyDrive/finds.xlsx\")\n",
        "df=df.iloc[:,1:]\n",
        "df"
      ],
      "metadata": {
        "id": "fvF4te9JsaaJ"
      },
      "execution_count": null,
      "outputs": []
    },
    {
      "cell_type": "code",
      "source": [
        "def candidate(df):\n",
        "  s=[False for i in range(len(df.columns)-1)]\n",
        "  g=[]\n",
        "  for i in range(len(df)):\n",
        "\n",
        "    if df.iloc[i,-1].lower()=='no':\n",
        "\n",
        "      if len(g)==0:\n",
        "         l=[True for j in range(len(df.columns)-1)]\n",
        "         g=generalize(df,i,l)\n",
        "\n",
        "\n",
        "\n",
        "      else:\n",
        "        l=[]\n",
        "        for k in g:\n",
        "          if not consistent(df,k,i):\n",
        "            l.extend(generalize(df,i,k))\n",
        "          else:\n",
        "            l.append(k)\n",
        "\n",
        "\n",
        "\n",
        "        g=copy.deepcopy(l)\n",
        "        g=make_consistent(df,g,i)\n",
        "\n",
        "\n",
        "    else:\n",
        "      if set(s) == {False}:\n",
        "        s=list(df.iloc[i,:-1])\n",
        "      else:\n",
        "        for m in range(len(df.columns)-1):\n",
        "          if(df.iloc[i,m]!=s[m]):\n",
        "            s[m]=True\n",
        "      if(len(g)!=0):\n",
        "         g=make_consistent(df,g,i)\n",
        "\n",
        "  g=make_consistent(df,g,i)\n",
        "  print(\"general hypothesis\",g)\n",
        "  print(\"specific hypothesis\",s)\n",
        "  print(versionspace(g,s))\n",
        "candidate(df)\n",
        "\n",
        "\n",
        "\n",
        "\n",
        "\n",
        "\n"
      ],
      "metadata": {
        "id": "o4xB2QACEAee",
        "colab": {
          "base_uri": "https://localhost:8080/"
        },
        "outputId": "fa34986c-bdac-464a-c1b8-5cf650fe4a06"
      },
      "execution_count": null,
      "outputs": [
        {
          "output_type": "stream",
          "name": "stdout",
          "text": [
            "general hypothesis []\n",
            "specific hypothesis [True, True, True, True]\n",
            "[]\n"
          ]
        }
      ]
    },
    {
      "cell_type": "code",
      "source": [
        "from google.colab import drive\n",
        "drive.mount('/content/drive')"
      ],
      "metadata": {
        "colab": {
          "base_uri": "https://localhost:8080/"
        },
        "id": "rPBxd8wxBP1Y",
        "outputId": "6b49ffcc-08fd-46d3-f0ae-89badf38601d"
      },
      "execution_count": null,
      "outputs": [
        {
          "output_type": "stream",
          "name": "stdout",
          "text": [
            "Drive already mounted at /content/drive; to attempt to forcibly remount, call drive.mount(\"/content/drive\", force_remount=True).\n"
          ]
        }
      ]
    },
    {
      "cell_type": "code",
      "source": [
        "import copy\n",
        "def generalize(df,r,l):\n",
        "\n",
        "  #b=[False for i in range(len(l))]\n",
        "  h=[]\n",
        "\n",
        "  for i in range(len(df.columns)-1):\n",
        "    if l[i] is True:\n",
        "\n",
        "       b=set(df.iloc[:,i])-{df.iloc[r,i]}\n",
        "\n",
        "       for k in b:\n",
        "            l1=copy.deepcopy(l)\n",
        "            l1[i]=k\n",
        "            h.append(l1)\n",
        "\n",
        "  return h\n",
        "\n",
        "\n",
        "\n",
        "\n",
        "\n",
        "\n"
      ],
      "metadata": {
        "id": "V3A42FLFFInh"
      },
      "execution_count": null,
      "outputs": []
    },
    {
      "cell_type": "code",
      "source": [
        "True and 'class0'"
      ],
      "metadata": {
        "colab": {
          "base_uri": "https://localhost:8080/",
          "height": 35
        },
        "id": "9fYEYkU2GFB4",
        "outputId": "863885ae-3b14-4a8a-b157-da6279ac40fd"
      },
      "execution_count": null,
      "outputs": [
        {
          "output_type": "execute_result",
          "data": {
            "text/plain": [
              "'class0'"
            ],
            "application/vnd.google.colaboratory.intrinsic+json": {
              "type": "string"
            }
          },
          "metadata": {},
          "execution_count": 5
        }
      ]
    },
    {
      "cell_type": "code",
      "source": [
        "set(df['size']).difference({'big'})"
      ],
      "metadata": {
        "colab": {
          "base_uri": "https://localhost:8080/"
        },
        "id": "9d98JvqjGHYH",
        "outputId": "35f9f697-fa05-43a1-d724-e2ed87be6577"
      },
      "execution_count": null,
      "outputs": [
        {
          "output_type": "execute_result",
          "data": {
            "text/plain": [
              "{'small'}"
            ]
          },
          "metadata": {},
          "execution_count": 15
        }
      ]
    },
    {
      "cell_type": "code",
      "source": [
        "g=[]\n",
        "g.append([[1,2,3],[4,5,6]])\n",
        "g"
      ],
      "metadata": {
        "colab": {
          "base_uri": "https://localhost:8080/"
        },
        "id": "Ri_gxbdHGgvw",
        "outputId": "671b2dbc-d332-4311-e3f2-f0359f9dac89"
      },
      "execution_count": null,
      "outputs": [
        {
          "output_type": "execute_result",
          "data": {
            "text/plain": [
              "[[[1, 2, 3], [4, 5, 6]]]"
            ]
          },
          "metadata": {},
          "execution_count": 16
        }
      ]
    },
    {
      "cell_type": "code",
      "source": [
        "import copy\n",
        "def make_consistent(df,g,i):\n",
        "  h=[]\n",
        "\n",
        "  for j in g:\n",
        "    flag=True\n",
        "    for k in range(i+1):\n",
        "\n",
        "     if not consistent(df,j,k):\n",
        "      flag=False\n",
        "      break\n",
        "    if(flag):\n",
        "       h.append(j)\n",
        "\n",
        "  return h\n",
        "\n",
        "\n",
        "\n",
        "\n",
        "\n",
        "\n",
        "\n",
        "\n",
        "\n",
        "\n"
      ],
      "metadata": {
        "id": "SKeKyK99Kg9V"
      },
      "execution_count": null,
      "outputs": []
    },
    {
      "cell_type": "code",
      "source": [
        "set(['sr','hi','jo'])  ['sr',True,True]"
      ],
      "metadata": {
        "colab": {
          "base_uri": "https://localhost:8080/"
        },
        "id": "2dOBymLUBuPo",
        "outputId": "c31aa83e-1eb6-454b-eee5-25b4e6811e6b"
      },
      "execution_count": null,
      "outputs": [
        {
          "output_type": "execute_result",
          "data": {
            "text/plain": [
              "False"
            ]
          },
          "metadata": {},
          "execution_count": 14
        }
      ]
    },
    {
      "cell_type": "code",
      "source": [
        "'hi' and True"
      ],
      "metadata": {
        "colab": {
          "base_uri": "https://localhost:8080/"
        },
        "id": "dhhJ7wS5Bwwu",
        "outputId": "a853b67a-0628-47bb-bc69-406d2a6cc0b4"
      },
      "execution_count": null,
      "outputs": [
        {
          "output_type": "execute_result",
          "data": {
            "text/plain": [
              "True"
            ]
          },
          "metadata": {},
          "execution_count": 15
        }
      ]
    },
    {
      "cell_type": "code",
      "source": [
        "True and bool('hi')"
      ],
      "metadata": {
        "colab": {
          "base_uri": "https://localhost:8080/"
        },
        "id": "-mBREQWkDjB0",
        "outputId": "55f1c19c-d770-4825-84a9-7d8a7bf119ce"
      },
      "execution_count": null,
      "outputs": [
        {
          "output_type": "execute_result",
          "data": {
            "text/plain": [
              "True"
            ]
          },
          "metadata": {},
          "execution_count": 18
        }
      ]
    },
    {
      "cell_type": "code",
      "source": [
        "'sravani' == 'sravani'"
      ],
      "metadata": {
        "colab": {
          "base_uri": "https://localhost:8080/"
        },
        "id": "8O-tHKW5Dls1",
        "outputId": "b59e5a97-62d2-40ad-d928-7da7b411787e"
      },
      "execution_count": null,
      "outputs": [
        {
          "output_type": "execute_result",
          "data": {
            "text/plain": [
              "True"
            ]
          },
          "metadata": {},
          "execution_count": 21
        }
      ]
    },
    {
      "cell_type": "code",
      "source": [
        "l={'big'}\n",
        "l[0]"
      ],
      "metadata": {
        "colab": {
          "base_uri": "https://localhost:8080/",
          "height": 182
        },
        "id": "vXAIH2iADyTc",
        "outputId": "1d276fc3-712f-4047-8e30-b3972655beed"
      },
      "execution_count": null,
      "outputs": [
        {
          "output_type": "error",
          "ename": "TypeError",
          "evalue": "ignored",
          "traceback": [
            "\u001b[0;31m---------------------------------------------------------------------------\u001b[0m",
            "\u001b[0;31mTypeError\u001b[0m                                 Traceback (most recent call last)",
            "\u001b[0;32m<ipython-input-25-bf51ece7e0fe>\u001b[0m in \u001b[0;36m<cell line: 2>\u001b[0;34m()\u001b[0m\n\u001b[1;32m      1\u001b[0m \u001b[0ml\u001b[0m\u001b[0;34m=\u001b[0m\u001b[0;34m{\u001b[0m\u001b[0;34m'big'\u001b[0m\u001b[0;34m}\u001b[0m\u001b[0;34m\u001b[0m\u001b[0;34m\u001b[0m\u001b[0m\n\u001b[0;32m----> 2\u001b[0;31m \u001b[0ml\u001b[0m\u001b[0;34m[\u001b[0m\u001b[0;36m0\u001b[0m\u001b[0;34m]\u001b[0m\u001b[0;34m\u001b[0m\u001b[0;34m\u001b[0m\u001b[0m\n\u001b[0m",
            "\u001b[0;31mTypeError\u001b[0m: 'set' object is not subscriptable"
          ]
        }
      ]
    },
    {
      "cell_type": "code",
      "source": [
        "*x"
      ],
      "metadata": {
        "id": "7Jbjo_mnHE8s",
        "colab": {
          "base_uri": "https://localhost:8080/",
          "height": 130
        },
        "outputId": "2c5f36b7-7ed3-402c-a7c4-fe840460b56e"
      },
      "execution_count": null,
      "outputs": [
        {
          "output_type": "error",
          "ename": "SyntaxError",
          "evalue": "ignored",
          "traceback": [
            "\u001b[0;36m  File \u001b[0;32m\"<ipython-input-22-b6ed085fa771>\"\u001b[0;36m, line \u001b[0;32m1\u001b[0m\n\u001b[0;31m    *x\u001b[0m\n\u001b[0m    ^\u001b[0m\n\u001b[0;31mSyntaxError\u001b[0m\u001b[0;31m:\u001b[0m can't use starred expression here\n"
          ]
        }
      ]
    },
    {
      "cell_type": "code",
      "source": [
        "l=[True for j in range(len(df.columns)-1)]\n",
        "g=[l]\n",
        "generalize(df,0,l,g)\n",
        "print(g)\n"
      ],
      "metadata": {
        "colab": {
          "base_uri": "https://localhost:8080/"
        },
        "id": "pIs2fZCtRXh3",
        "outputId": "87aa44d1-cdca-485f-e8b1-4b3cb20e73ca"
      },
      "execution_count": null,
      "outputs": [
        {
          "output_type": "stream",
          "name": "stdout",
          "text": [
            "[[True, True, True], ['small', True, True], [True, 'blue', True], [True, True, 'traingle']]\n"
          ]
        }
      ]
    },
    {
      "cell_type": "code",
      "source": [
        "def p(l):\n",
        "  l[0]=6\n",
        "l=[3,4]\n",
        "p(l)\n",
        "print(l)"
      ],
      "metadata": {
        "colab": {
          "base_uri": "https://localhost:8080/"
        },
        "id": "5crTEnuSUvbr",
        "outputId": "5283011b-f371-4618-eb8a-9bf2ba0cd6b9"
      },
      "execution_count": null,
      "outputs": [
        {
          "output_type": "stream",
          "name": "stdout",
          "text": [
            "[6, 4]\n"
          ]
        }
      ]
    },
    {
      "cell_type": "code",
      "source": [
        "def consistent(df,l,r):\n",
        "  if df.iloc[r,-1].lower()=='no':\n",
        "    for i in range(len(df.columns)-1):\n",
        "      if l[i] is not True:\n",
        "        if l[i]!=df.iloc[r,i]:\n",
        "\n",
        "          return True\n",
        "    return False\n",
        "  else:\n",
        "    for i in range(len(df.columns)-1):\n",
        "      if l[i] is not True:\n",
        "        if l[i]!=df.iloc[r,i]:\n",
        "          return False\n",
        "\n",
        "    return True\n",
        "\n"
      ],
      "metadata": {
        "id": "g8dA3EckgKS5"
      },
      "execution_count": null,
      "outputs": []
    },
    {
      "cell_type": "code",
      "source": [
        "{\"blue\",\"red\"}-{\"red\"}"
      ],
      "metadata": {
        "colab": {
          "base_uri": "https://localhost:8080/"
        },
        "id": "xMjMHNsxYAgL",
        "outputId": "ce5c98ca-cd6f-417f-a92e-345c2ce318fb"
      },
      "execution_count": null,
      "outputs": [
        {
          "output_type": "execute_result",
          "data": {
            "text/plain": [
              "{'blue'}"
            ]
          },
          "metadata": {},
          "execution_count": 30
        }
      ]
    },
    {
      "cell_type": "code",
      "source": [
        "['small',True,True] and ['Red',True,True]"
      ],
      "metadata": {
        "colab": {
          "base_uri": "https://localhost:8080/"
        },
        "id": "AborITaUZAXk",
        "outputId": "3500d38d-a627-4b3e-925f-8aa11717c95d"
      },
      "execution_count": null,
      "outputs": [
        {
          "output_type": "execute_result",
          "data": {
            "text/plain": [
              "['Red', True, True]"
            ]
          },
          "metadata": {},
          "execution_count": 44
        }
      ]
    },
    {
      "cell_type": "code",
      "source": [
        "df.iloc[0,-1]==\"no\""
      ],
      "metadata": {
        "colab": {
          "base_uri": "https://localhost:8080/"
        },
        "id": "_DQzfqbQchyg",
        "outputId": "0bb4cbac-b796-4952-a398-5b7f1830f34c"
      },
      "execution_count": null,
      "outputs": [
        {
          "output_type": "execute_result",
          "data": {
            "text/plain": [
              "True"
            ]
          },
          "metadata": {},
          "execution_count": 60
        }
      ]
    },
    {
      "cell_type": "code",
      "source": [
        "consistent(df,['Small','Blue',True],2)"
      ],
      "metadata": {
        "colab": {
          "base_uri": "https://localhost:8080/"
        },
        "id": "sKQdgLtkgY5N",
        "outputId": "bcccb836-ff28-4765-e4d1-eb26a1b260df"
      },
      "execution_count": null,
      "outputs": [
        {
          "output_type": "stream",
          "name": "stdout",
          "text": [
            "y\n"
          ]
        },
        {
          "output_type": "execute_result",
          "data": {
            "text/plain": [
              "False"
            ]
          },
          "metadata": {},
          "execution_count": 85
        }
      ]
    },
    {
      "cell_type": "code",
      "source": [
        "make_consistent(df,[['small', 'blue', True], ['small', True, 'circle'], [True, 'blue', True], ['big', True, 'traingle'], [True, 'blue', 'traingle']],3)\n"
      ],
      "metadata": {
        "colab": {
          "base_uri": "https://localhost:8080/"
        },
        "id": "JaEdurpfj814",
        "outputId": "53523726-90b1-4ed1-8fc7-d4b20b214382"
      },
      "execution_count": null,
      "outputs": [
        {
          "output_type": "stream",
          "name": "stdout",
          "text": [
            "True 0 ['small', 'blue', True]\n",
            "True 1 ['small', 'blue', True]\n",
            "y\n",
            "False 2 ['small', 'blue', True]\n",
            "y\n",
            "True 0 ['small', True, 'circle']\n",
            "True 1 ['small', True, 'circle']\n",
            "True 2 ['small', True, 'circle']\n",
            "[['small', True, 'circle']]\n",
            "True 0 [True, 'blue', True]\n",
            "True 1 [True, 'blue', True]\n",
            "y\n",
            "False 2 [True, 'blue', True]\n",
            "y\n",
            "True 0 ['big', True, 'traingle']\n",
            "True 1 ['big', True, 'traingle']\n",
            "y\n",
            "False 2 ['big', True, 'traingle']\n",
            "y\n",
            "True 0 [True, 'blue', 'traingle']\n",
            "True 1 [True, 'blue', 'traingle']\n",
            "y\n",
            "False 2 [True, 'blue', 'traingle']\n",
            "y\n"
          ]
        },
        {
          "output_type": "execute_result",
          "data": {
            "text/plain": [
              "[['small', True, 'circle']]"
            ]
          },
          "metadata": {},
          "execution_count": 105
        }
      ]
    },
    {
      "cell_type": "code",
      "source": [
        "consistent(df,['small', True, 'circle'],2)"
      ],
      "metadata": {
        "colab": {
          "base_uri": "https://localhost:8080/"
        },
        "id": "S1s0aTn3lGxu",
        "outputId": "472994fa-8b80-41f7-ba9b-c24dceff3395"
      },
      "execution_count": null,
      "outputs": [
        {
          "output_type": "execute_result",
          "data": {
            "text/plain": [
              "True"
            ]
          },
          "metadata": {},
          "execution_count": 94
        }
      ]
    },
    {
      "cell_type": "code",
      "source": [
        "def versionspace(g,s):\n",
        "  vs=[]\n",
        "  for i in g:\n",
        "    for j in range(len(i)):\n",
        "      if i[j]==True and s[j]!=True:\n",
        "        m=i[:]\n",
        "        m[j]=s[j]\n",
        "        if m not in vs:\n",
        "          vs.append(m)\n",
        "  return vs"
      ],
      "metadata": {
        "id": "p9EtpWsanFkY"
      },
      "execution_count": null,
      "outputs": []
    },
    {
      "cell_type": "code",
      "source": [
        "consistent(df,['Sunny', True, True, True],0)"
      ],
      "metadata": {
        "colab": {
          "base_uri": "https://localhost:8080/"
        },
        "id": "paCVJUxkqCW8",
        "outputId": "5f8b2f6b-ba90-4244-f54a-a9e16055f4e5"
      },
      "execution_count": null,
      "outputs": [
        {
          "output_type": "execute_result",
          "data": {
            "text/plain": [
              "False"
            ]
          },
          "metadata": {},
          "execution_count": 140
        }
      ]
    },
    {
      "cell_type": "code",
      "source": [
        "class klm:\n",
        "  def __init__ (self):\n",
        "     self.g=[]\n",
        "  def candidate(self,df):\n",
        "    s=[False for i in range(len(df.columns)-1)]\n",
        "    self.g=[]\n",
        "    for i in range(len(df)):\n",
        "     if df.iloc[i,-1].lower()=='no':\n",
        "      print(self.g)\n",
        "      if len(self.g)==0:\n",
        "         l=[True for j in range(len(df.columns)-1)]\n",
        "         self.g=generalize(df,i,l)\n",
        "         print(\"g1\",self.g)\n",
        "\n",
        "\n",
        "      else:\n",
        "        l=[]\n",
        "        for k in self.g:\n",
        "          if not consistent(df,k,i):\n",
        "            l.extend(generalize(df,i,k))\n",
        "          else:\n",
        "            l.append(k)\n",
        "\n",
        "\n",
        "\n",
        "        self.g=copy.deepcopy(l)\n",
        "        self.g=make_consistent(df,self.g,i)\n",
        "        print(\"g2\",self.g)\n",
        "\n",
        "     else:\n",
        "      if set(s) == {False}:\n",
        "        s=list(df.iloc[i,:-1])\n",
        "      else:\n",
        "        for m in range(len(df.columns)-1):\n",
        "          if(df.iloc[i,m]!=s[m]):\n",
        "            s[m]=True\n",
        "      if(len(self.g)!=0):\n",
        "         self.g=make_consistent(df,self.g,i)\n",
        "  #g=make_consistent(df,g,i)\n",
        "    print(\"general hypothesis\",self.g)\n",
        "    print(\"specific hypothesis\",s)\n",
        "    #print(versionspace(g,s))\n",
        "  def consistent(self,df,l,r):\n",
        "   if df.iloc[r,-1].lower()=='no':\n",
        "    for i in range(len(df.columns)-1):\n",
        "      if l[i] is not True:\n",
        "        if l[i]!=df.iloc[r,i]:\n",
        "\n",
        "          return True\n",
        "    return False\n",
        "   else:\n",
        "    for i in range(len(df.columns)-1):\n",
        "      if l[i] is not True:\n",
        "        if l[i]!=df.iloc[r,i]:\n",
        "          return False\n",
        "\n",
        "    return True\n",
        "  import copy\n",
        "  def make_consistent(self,df,g,i):\n",
        "   h=[]\n",
        "\n",
        "   for j in g:\n",
        "    flag=True\n",
        "    for k in range(i+1):\n",
        "\n",
        "     if not consistent(df,j,k):\n",
        "      flag=False\n",
        "      break\n",
        "    if(flag):\n",
        "       h.append(j)\n",
        "\n",
        "   return h\n",
        "\n",
        "\n",
        "\n"
      ],
      "metadata": {
        "id": "FZN0dwMtrmPW"
      },
      "execution_count": null,
      "outputs": []
    },
    {
      "cell_type": "code",
      "source": [
        "klm().candidate(df)"
      ],
      "metadata": {
        "colab": {
          "base_uri": "https://localhost:8080/"
        },
        "id": "YNIptp7I0LpO",
        "outputId": "61b44e33-bae8-46c1-b755-cf088124e0c1"
      },
      "execution_count": null,
      "outputs": [
        {
          "output_type": "stream",
          "name": "stdout",
          "text": [
            "[]\n",
            "g1 [['Overcast', True, True, True], ['Rain', True, True, True], [True, 'Cool', True, True], [True, 'Mild', True, True], [True, True, 'Normal', True], [True, True, True, 'Strong']]\n",
            "[['Overcast', True, True, True], ['Rain', True, True, True], [True, 'Cool', True, True], [True, 'Mild', True, True], [True, True, 'Normal', True], [True, True, True, 'Strong']]\n",
            "g2 [['Overcast', True, True, True], ['Rain', True, True, True], [True, 'Cool', True, True], [True, 'Mild', True, True], [True, True, 'Normal', True], ['Overcast', True, True, 'Strong'], ['Rain', True, True, 'Strong'], [True, 'Cool', True, 'Strong'], [True, 'Mild', True, 'Strong'], [True, True, 'Normal', 'Strong']]\n",
            "[]\n",
            "g1 [['Sunny', True, True, True], ['Overcast', True, True, True], [True, 'Hot', True, True], [True, 'Mild', True, True], [True, True, 'High', True], [True, True, True, 'Weak']]\n",
            "[]\n",
            "g1 [['Overcast', True, True, True], ['Rain', True, True, True], [True, 'Hot', True, True], [True, 'Cool', True, True], [True, True, 'Normal', True], [True, True, True, 'Strong']]\n",
            "[]\n",
            "g1 [['Sunny', True, True, True], ['Overcast', True, True, True], [True, 'Hot', True, True], [True, 'Cool', True, True], [True, True, 'Normal', True], [True, True, True, 'Weak']]\n",
            "general hypothesis [['Sunny', True, True, True], ['Overcast', True, True, True], [True, 'Hot', True, True], [True, 'Cool', True, True], [True, True, 'Normal', True], [True, True, True, 'Weak']]\n",
            "specific hypothesis [True, True, True, True]\n"
          ]
        }
      ]
    },
    {
      "cell_type": "code",
      "source": [],
      "metadata": {
        "id": "1ILewcHc0Pv9"
      },
      "execution_count": null,
      "outputs": []
    },
    {
      "cell_type": "code",
      "source": [],
      "metadata": {
        "id": "C_V3izNr3Ihu"
      },
      "execution_count": null,
      "outputs": []
    }
  ]
}